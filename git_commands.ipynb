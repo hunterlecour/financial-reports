{
 "cells": [
  {
   "cell_type": "code",
   "execution_count": 1,
   "id": "064494a3-f761-4ce9-a349-b06f704da370",
   "metadata": {},
   "outputs": [],
   "source": [
    "# Switch to Python Kernel\n",
    "# # Step 1: Check if Git is installed\n",
    "# !git --version\n",
    "\n",
    "# # Step 2: Initialize a new Git repository\n",
    "# !git init\n",
    "\n",
    "# # Step 3: Add files to the repository\n",
    "# !git add .\n",
    "\n",
    "# # Add a Readme (if needed)\n",
    "# !git add README.md\n",
    "\n",
    "# # Step 4: Commit the changes\n",
    "# !git commit -m \"Initial commit\"\n",
    "\n",
    "# # Step 5: Check the current branch\n",
    "# !git branch\n",
    "\n",
    "# # Step 6: Create a new branch (if needed)\n",
    "# !git checkout -b choose_branch  # Replace with your branch name\n",
    "\n",
    "# # Step 7: Add the remote repository\n",
    "# !git remote add origin https://github.com/yourusername/your-repo-name.git\n",
    "\n",
    "# # Step 8: Push the changes to GitHub\n",
    "# !git push -u origin new-branch-name  # or main, if that’s your branch\n"
   ]
  },
  {
   "cell_type": "code",
   "execution_count": null,
   "id": "673e32e0-3254-47a2-aea4-9bc145eeda0c",
   "metadata": {},
   "outputs": [],
   "source": [
    "# On going Maintenance \n",
    "\n",
    "# # Step 1: Check the status of your repository\n",
    "# !git status\n",
    "\n",
    "# # Step 2: Stage the updated notebook\n",
    "# !git add .  # or !git add my_notebook.ipynb\n",
    "\n",
    "# # Step 3: Commit the changes\n",
    "# !git commit -m \"Updated my_notebook with new analysis\"  # Customize the message\n",
    "\n",
    "# # Step 4: Push the changes to GitHub\n",
    "# !git push origin new-branch-name  # or !git push origin main\n"
   ]
  },
  {
   "cell_type": "code",
   "execution_count": 31,
   "id": "62397347-4397-4e72-8418-393726661b7e",
   "metadata": {},
   "outputs": [
    {
     "name": "stdout",
     "output_type": "stream",
     "text": [
      "origin\thttps://github.com/hunterlecour/financial-reports.git (fetch)\n",
      "origin\thttps://github.com/hunterlecour/financial-reports.git (push)\n"
     ]
    }
   ],
   "source": [
    "!git remote -v"
   ]
  },
  {
   "cell_type": "code",
   "execution_count": 32,
   "id": "4d89e474-8e90-403b-8fd3-083fc4fcc624",
   "metadata": {},
   "outputs": [
    {
     "name": "stdout",
     "output_type": "stream",
     "text": [
      "On branch main\n",
      "Your branch is up to date with 'origin/main'.\n",
      "\n",
      "Changes not staged for commit:\n",
      "  (use \"git add <file>...\" to update what will be committed)\n",
      "  (use \"git restore <file>...\" to discard changes in working directory)\n",
      "\tmodified:   .ipynb_checkpoints/git_commands-checkpoint.ipynb\n",
      "\tmodified:   git_commands.ipynb\n",
      "\n",
      "no changes added to commit (use \"git add\" and/or \"git commit -a\")\n"
     ]
    }
   ],
   "source": [
    "!git status"
   ]
  },
  {
   "cell_type": "code",
   "execution_count": 33,
   "id": "da60e830-0ea7-4372-b18a-78842956971f",
   "metadata": {},
   "outputs": [
    {
     "name": "stderr",
     "output_type": "stream",
     "text": [
      "warning: in the working copy of '.ipynb_checkpoints/git_commands-checkpoint.ipynb', LF will be replaced by CRLF the next time Git touches it\n",
      "warning: in the working copy of 'git_commands.ipynb', LF will be replaced by CRLF the next time Git touches it\n"
     ]
    }
   ],
   "source": [
    "!git add ."
   ]
  },
  {
   "cell_type": "code",
   "execution_count": 34,
   "id": "cfccb0f5-5777-4068-a84b-2be76361e7cf",
   "metadata": {},
   "outputs": [
    {
     "name": "stdout",
     "output_type": "stream",
     "text": [
      "[main 7119963] Updated\n",
      " 2 files changed, 70 insertions(+), 30 deletions(-)\n"
     ]
    }
   ],
   "source": [
    "!git commit -m \"Updated\""
   ]
  },
  {
   "cell_type": "code",
   "execution_count": 35,
   "id": "f95fd4a6-d8b1-4480-a13f-d3df5d21fd17",
   "metadata": {},
   "outputs": [
    {
     "name": "stderr",
     "output_type": "stream",
     "text": [
      "To https://github.com/hunterlecour/financial-reports.git\n",
      "   4c95e8d..7119963  main -> main\n"
     ]
    }
   ],
   "source": [
    "!git push origin main"
   ]
  },
  {
   "cell_type": "code",
   "execution_count": null,
   "id": "5db90023-79de-45c3-8bd8-bcce6d383cb3",
   "metadata": {},
   "outputs": [],
   "source": []
  }
 ],
 "metadata": {
  "kernelspec": {
   "display_name": "Python 3 (ipykernel)",
   "language": "python",
   "name": "python3"
  },
  "language_info": {
   "codemirror_mode": {
    "name": "ipython",
    "version": 3
   },
   "file_extension": ".py",
   "mimetype": "text/x-python",
   "name": "python",
   "nbconvert_exporter": "python",
   "pygments_lexer": "ipython3",
   "version": "3.11.0"
  }
 },
 "nbformat": 4,
 "nbformat_minor": 5
}
