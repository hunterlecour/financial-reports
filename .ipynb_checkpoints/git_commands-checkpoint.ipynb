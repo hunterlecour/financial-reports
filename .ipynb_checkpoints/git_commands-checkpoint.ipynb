{
 "cells": [
  {
   "cell_type": "code",
   "execution_count": 1,
   "id": "064494a3-f761-4ce9-a349-b06f704da370",
   "metadata": {},
   "outputs": [],
   "source": [
    "# Switch to Python Kernel\n",
    "# # Step 1: Check if Git is installed\n",
    "# !git --version\n",
    "\n",
    "# # Step 2: Initialize a new Git repository\n",
    "# !git init\n",
    "\n",
    "# # Step 3: Add files to the repository\n",
    "# !git add .\n",
    "\n",
    "# # Add a Readme (if needed)\n",
    "# !git add README.md\n",
    "\n",
    "# # Step 4: Commit the changes\n",
    "# !git commit -m \"Initial commit\"\n",
    "\n",
    "# # Step 5: Check the current branch\n",
    "# !git branch\n",
    "\n",
    "# # Step 6: Create a new branch (if needed)\n",
    "# !git checkout -b choose_branch  # Replace with your branch name\n",
    "\n",
    "# # Step 7: Add the remote repository\n",
    "# !git remote add origin https://github.com/yourusername/your-repo-name.git\n",
    "\n",
    "# # Step 8: Push the changes to GitHub\n",
    "# !git push -u origin new-branch-name  # or main, if that’s your branch\n"
   ]
  },
  {
   "cell_type": "code",
   "execution_count": null,
   "id": "673e32e0-3254-47a2-aea4-9bc145eeda0c",
   "metadata": {},
   "outputs": [],
   "source": [
    "# On going Maintenance \n",
    "\n",
    "# # Step 1: Check the status of your repository\n",
    "# !git status\n",
    "\n",
    "# # Step 2: Stage the updated notebook\n",
    "# !git add .  # or !git add my_notebook.ipynb\n",
    "\n",
    "# # Step 3: Commit the changes\n",
    "# !git commit -m \"Updated my_notebook with new analysis\"  # Customize the message\n",
    "\n",
    "# # Step 4: Push the changes to GitHub\n",
    "# !git push origin new-branch-name  # or !git push origin main\n"
   ]
  },
  {
   "cell_type": "code",
   "execution_count": null,
   "id": "62397347-4397-4e72-8418-393726661b7e",
   "metadata": {},
   "outputs": [],
   "source": [
    "!git remote -v"
   ]
  },
  {
   "cell_type": "code",
   "execution_count": null,
   "id": "4d89e474-8e90-403b-8fd3-083fc4fcc624",
   "metadata": {},
   "outputs": [],
   "source": [
    "!git status"
   ]
  },
  {
   "cell_type": "code",
   "execution_count": null,
   "id": "da60e830-0ea7-4372-b18a-78842956971f",
   "metadata": {},
   "outputs": [],
   "source": [
    "!git add ."
   ]
  },
  {
   "cell_type": "code",
   "execution_count": null,
   "id": "cfccb0f5-5777-4068-a84b-2be76361e7cf",
   "metadata": {},
   "outputs": [],
   "source": [
    "!git commit -m \"Updated\""
   ]
  },
  {
   "cell_type": "code",
   "execution_count": null,
   "id": "f95fd4a6-d8b1-4480-a13f-d3df5d21fd17",
   "metadata": {},
   "outputs": [],
   "source": [
    "!git push origin main"
   ]
  }
 ],
 "metadata": {
  "kernelspec": {
   "display_name": "Python 3 (ipykernel)",
   "language": "python",
   "name": "python3"
  },
  "language_info": {
   "codemirror_mode": {
    "name": "ipython",
    "version": 3
   },
   "file_extension": ".py",
   "mimetype": "text/x-python",
   "name": "python",
   "nbconvert_exporter": "python",
   "pygments_lexer": "ipython3",
   "version": "3.11.0"
  }
 },
 "nbformat": 4,
 "nbformat_minor": 5
}
