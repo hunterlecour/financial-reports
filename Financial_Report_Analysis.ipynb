{
 "cells": [
  {
   "cell_type": "markdown",
   "id": "1c3f2f91-6e81-4685-a0ba-0410968b3bcf",
   "metadata": {},
   "source": [
    "## Project Overview\n",
    "\n",
    "This project simulates the role of an equity research associate at a hedge fund. It focuses on analyzing financial statement data across technology, FMCG, and real estate sectors to evaluate how leverage (debt) relates to profitability. The goal is to inform investment decisions, particularly regarding real estate companies.\n",
    "\n",
    "\n",
    "### Data\n",
    "\n",
    "You have two datasets at your disposal: `Balance_Sheet.xlsx` and `Income_Statement.xlsx`. Both these datasets have three columns in common:\n",
    "- `\"Company\"`: The company's ticker name.\n",
    "- `\"comp_type\"` The type of industry the company in question belongs to. It is either `\"tech\"` for companies in the technology industry, `\"fmcg\"` for companies in the fast-moving consumer goods industry, and `\"real_est\"` for companies in the real estate industry. \n",
    "- `\"Year\"`: The year the company's information is from.\n",
    "\n",
    "The rest of the columns in the datasets contain information from the financial statement of the `\"Company\"` in question. Note that the columns in `Balance_Sheet.xlsx` only contain financial information from the balance sheet. Similarly, the columns in `Income_Statement.xlsx` only contain financial information from the income statement. The columns are named accordingly. For instance, the column `\"Total Liab\"` from `Balance_Sheet.xlsx` is the total liability.\n"
   ]
  },
  {
   "cell_type": "markdown",
   "id": "34a07530-9eaa-4ddb-afe2-76ba4d9f2996",
   "metadata": {},
   "source": [
    "### Import Packages Required for this Analysis"
   ]
  },
  {
   "cell_type": "code",
   "execution_count": 61,
   "id": "332c812a-6512-467b-a7fa-4611e1dac838",
   "metadata": {},
   "outputs": [],
   "source": [
    "import pandas as pd\n",
    "import seaborn as sns\n",
    "import matplotlib.pyplot as plt\n",
    "from sklearn.linear_model import LinearRegression\n",
    "import numpy as np"
   ]
  },
  {
   "cell_type": "markdown",
   "id": "715c90fe-53d4-4f18-9cb9-4a24a3d62614",
   "metadata": {},
   "source": [
    "### Read in the data"
   ]
  },
  {
   "cell_type": "code",
   "execution_count": 24,
   "id": "e66116ae-7585-415a-b458-c97520b13f80",
   "metadata": {},
   "outputs": [],
   "source": [
    "income_statement = pd.read_excel(r\"C:\\Users\\hunte\\Documents\\Analyst Workshop\\Pandas_For_Data_Analysis\\13. Building Financial Reports\\Income_Statement.xlsx\")\n",
    "balance_sheet = pd.read_excel(r\"C:\\Users\\hunte\\Documents\\Analyst Workshop\\Pandas_For_Data_Analysis\\13. Building Financial Reports\\Balance_Sheet.xlsx\")"
   ]
  },
  {
   "cell_type": "markdown",
   "id": "5cc0bb33-40a1-49b3-8f11-1540171c58cb",
   "metadata": {},
   "source": [
    "### Verify Successful Import\n",
    "\n",
    "\n",
    "\n",
    "\n"
   ]
  },
  {
   "cell_type": "markdown",
   "id": "8ac72458-b686-491b-aca8-deb83f87525b",
   "metadata": {},
   "source": [
    "#### Income Statement"
   ]
  },
  {
   "cell_type": "code",
   "execution_count": 25,
   "id": "a8abb460-de65-4f1d-84ca-0d5467410cae",
   "metadata": {},
   "outputs": [
    {
     "name": "stdout",
     "output_type": "stream",
     "text": [
      "<class 'pandas.core.frame.DataFrame'>\n",
      "RangeIndex: 60 entries, 0 to 59\n",
      "Data columns (total 9 columns):\n",
      " #   Column                    Non-Null Count  Dtype \n",
      "---  ------                    --------------  ----- \n",
      " 0   Unnamed: 0                60 non-null     int64 \n",
      " 1   Year                      60 non-null     int64 \n",
      " 2   comp_type                 60 non-null     object\n",
      " 3   company                   60 non-null     object\n",
      " 4   Cost Of Goods Sold        60 non-null     int64 \n",
      " 5   Gross Profit              60 non-null     int64 \n",
      " 6   Operating Income          60 non-null     int64 \n",
      " 7   Total Operating Expenses  60 non-null     int64 \n",
      " 8   Total Revenue             60 non-null     int64 \n",
      "dtypes: int64(7), object(2)\n",
      "memory usage: 4.3+ KB\n"
     ]
    }
   ],
   "source": [
    "income_statement.info()"
   ]
  },
  {
   "cell_type": "code",
   "execution_count": 26,
   "id": "8b0a32f0-ce17-4408-af62-d3a3b00b4d69",
   "metadata": {},
   "outputs": [
    {
     "data": {
      "text/html": [
       "<div>\n",
       "<style scoped>\n",
       "    .dataframe tbody tr th:only-of-type {\n",
       "        vertical-align: middle;\n",
       "    }\n",
       "\n",
       "    .dataframe tbody tr th {\n",
       "        vertical-align: top;\n",
       "    }\n",
       "\n",
       "    .dataframe thead th {\n",
       "        text-align: right;\n",
       "    }\n",
       "</style>\n",
       "<table border=\"1\" class=\"dataframe\">\n",
       "  <thead>\n",
       "    <tr style=\"text-align: right;\">\n",
       "      <th></th>\n",
       "      <th>Unnamed: 0</th>\n",
       "      <th>Year</th>\n",
       "      <th>comp_type</th>\n",
       "      <th>company</th>\n",
       "      <th>Cost Of Goods Sold</th>\n",
       "      <th>Gross Profit</th>\n",
       "      <th>Operating Income</th>\n",
       "      <th>Total Operating Expenses</th>\n",
       "      <th>Total Revenue</th>\n",
       "    </tr>\n",
       "  </thead>\n",
       "  <tbody>\n",
       "    <tr>\n",
       "      <th>0</th>\n",
       "      <td>0</td>\n",
       "      <td>2019</td>\n",
       "      <td>tech</td>\n",
       "      <td>AAPL</td>\n",
       "      <td>161782000000</td>\n",
       "      <td>98392000000</td>\n",
       "      <td>63930000000</td>\n",
       "      <td>196244000000</td>\n",
       "      <td>260174000000</td>\n",
       "    </tr>\n",
       "    <tr>\n",
       "      <th>1</th>\n",
       "      <td>1</td>\n",
       "      <td>2020</td>\n",
       "      <td>tech</td>\n",
       "      <td>AAPL</td>\n",
       "      <td>169559000000</td>\n",
       "      <td>104956000000</td>\n",
       "      <td>66288000000</td>\n",
       "      <td>208227000000</td>\n",
       "      <td>274515000000</td>\n",
       "    </tr>\n",
       "    <tr>\n",
       "      <th>2</th>\n",
       "      <td>2</td>\n",
       "      <td>2021</td>\n",
       "      <td>tech</td>\n",
       "      <td>AAPL</td>\n",
       "      <td>212981000000</td>\n",
       "      <td>152836000000</td>\n",
       "      <td>108949000000</td>\n",
       "      <td>256868000000</td>\n",
       "      <td>365817000000</td>\n",
       "    </tr>\n",
       "    <tr>\n",
       "      <th>3</th>\n",
       "      <td>3</td>\n",
       "      <td>2022</td>\n",
       "      <td>tech</td>\n",
       "      <td>AAPL</td>\n",
       "      <td>223546000000</td>\n",
       "      <td>170782000000</td>\n",
       "      <td>119437000000</td>\n",
       "      <td>274891000000</td>\n",
       "      <td>394328000000</td>\n",
       "    </tr>\n",
       "    <tr>\n",
       "      <th>4</th>\n",
       "      <td>4</td>\n",
       "      <td>2019</td>\n",
       "      <td>tech</td>\n",
       "      <td>MSFT</td>\n",
       "      <td>42910000000</td>\n",
       "      <td>82933000000</td>\n",
       "      <td>42959000000</td>\n",
       "      <td>82884000000</td>\n",
       "      <td>125843000000</td>\n",
       "    </tr>\n",
       "  </tbody>\n",
       "</table>\n",
       "</div>"
      ],
      "text/plain": [
       "   Unnamed: 0  Year comp_type company  Cost Of Goods Sold  Gross Profit  \\\n",
       "0           0  2019      tech    AAPL        161782000000   98392000000   \n",
       "1           1  2020      tech    AAPL        169559000000  104956000000   \n",
       "2           2  2021      tech    AAPL        212981000000  152836000000   \n",
       "3           3  2022      tech    AAPL        223546000000  170782000000   \n",
       "4           4  2019      tech    MSFT         42910000000   82933000000   \n",
       "\n",
       "   Operating Income  Total Operating Expenses  Total Revenue  \n",
       "0       63930000000              196244000000   260174000000  \n",
       "1       66288000000              208227000000   274515000000  \n",
       "2      108949000000              256868000000   365817000000  \n",
       "3      119437000000              274891000000   394328000000  \n",
       "4       42959000000               82884000000   125843000000  "
      ]
     },
     "execution_count": 26,
     "metadata": {},
     "output_type": "execute_result"
    }
   ],
   "source": [
    "income_statement.head()"
   ]
  },
  {
   "cell_type": "markdown",
   "id": "001b9826-571b-4e4d-b663-d59e613222a4",
   "metadata": {},
   "source": [
    "#### Balance Sheet"
   ]
  },
  {
   "cell_type": "code",
   "execution_count": 27,
   "id": "3126bfc2-b7c0-40f6-8160-b063cb8a0f36",
   "metadata": {},
   "outputs": [
    {
     "name": "stdout",
     "output_type": "stream",
     "text": [
      "<class 'pandas.core.frame.DataFrame'>\n",
      "RangeIndex: 60 entries, 0 to 59\n",
      "Data columns (total 14 columns):\n",
      " #   Column                     Non-Null Count  Dtype  \n",
      "---  ------                     --------------  -----  \n",
      " 0   Unnamed: 0                 60 non-null     int64  \n",
      " 1   Year                       60 non-null     int64  \n",
      " 2   comp_type                  60 non-null     object \n",
      " 3   company                    60 non-null     object \n",
      " 4   Accounts Payable           60 non-null     int64  \n",
      " 5   Cash                       60 non-null     int64  \n",
      " 6   Inventory                  44 non-null     float64\n",
      " 7   Property Plant Equipment   60 non-null     int64  \n",
      " 8   Short Term Investments     37 non-null     float64\n",
      " 9   Total Assets               60 non-null     int64  \n",
      " 10  Total Current Assets       60 non-null     int64  \n",
      " 11  Total Current Liabilities  60 non-null     int64  \n",
      " 12  Total Liab                 60 non-null     int64  \n",
      " 13  Total Stockholder Equity   60 non-null     int64  \n",
      "dtypes: float64(2), int64(10), object(2)\n",
      "memory usage: 6.7+ KB\n"
     ]
    }
   ],
   "source": [
    "balance_sheet.info()"
   ]
  },
  {
   "cell_type": "code",
   "execution_count": 28,
   "id": "b18858eb-64b3-4546-9b49-ddb204229cde",
   "metadata": {},
   "outputs": [
    {
     "data": {
      "text/html": [
       "<div>\n",
       "<style scoped>\n",
       "    .dataframe tbody tr th:only-of-type {\n",
       "        vertical-align: middle;\n",
       "    }\n",
       "\n",
       "    .dataframe tbody tr th {\n",
       "        vertical-align: top;\n",
       "    }\n",
       "\n",
       "    .dataframe thead th {\n",
       "        text-align: right;\n",
       "    }\n",
       "</style>\n",
       "<table border=\"1\" class=\"dataframe\">\n",
       "  <thead>\n",
       "    <tr style=\"text-align: right;\">\n",
       "      <th></th>\n",
       "      <th>Unnamed: 0</th>\n",
       "      <th>Year</th>\n",
       "      <th>comp_type</th>\n",
       "      <th>company</th>\n",
       "      <th>Accounts Payable</th>\n",
       "      <th>Cash</th>\n",
       "      <th>Inventory</th>\n",
       "      <th>Property Plant Equipment</th>\n",
       "      <th>Short Term Investments</th>\n",
       "      <th>Total Assets</th>\n",
       "      <th>Total Current Assets</th>\n",
       "      <th>Total Current Liabilities</th>\n",
       "      <th>Total Liab</th>\n",
       "      <th>Total Stockholder Equity</th>\n",
       "    </tr>\n",
       "  </thead>\n",
       "  <tbody>\n",
       "    <tr>\n",
       "      <th>0</th>\n",
       "      <td>0</td>\n",
       "      <td>2019</td>\n",
       "      <td>tech</td>\n",
       "      <td>AAPL</td>\n",
       "      <td>46236000000</td>\n",
       "      <td>48844000000</td>\n",
       "      <td>4.106000e+09</td>\n",
       "      <td>37378000000</td>\n",
       "      <td>5.171300e+10</td>\n",
       "      <td>338516000000</td>\n",
       "      <td>162819000000</td>\n",
       "      <td>105718000000</td>\n",
       "      <td>248028000000</td>\n",
       "      <td>90488000000</td>\n",
       "    </tr>\n",
       "    <tr>\n",
       "      <th>1</th>\n",
       "      <td>1</td>\n",
       "      <td>2020</td>\n",
       "      <td>tech</td>\n",
       "      <td>AAPL</td>\n",
       "      <td>42296000000</td>\n",
       "      <td>38016000000</td>\n",
       "      <td>4.061000e+09</td>\n",
       "      <td>45336000000</td>\n",
       "      <td>5.292700e+10</td>\n",
       "      <td>323888000000</td>\n",
       "      <td>143713000000</td>\n",
       "      <td>105392000000</td>\n",
       "      <td>258549000000</td>\n",
       "      <td>65339000000</td>\n",
       "    </tr>\n",
       "    <tr>\n",
       "      <th>2</th>\n",
       "      <td>2</td>\n",
       "      <td>2021</td>\n",
       "      <td>tech</td>\n",
       "      <td>AAPL</td>\n",
       "      <td>54763000000</td>\n",
       "      <td>34940000000</td>\n",
       "      <td>6.580000e+09</td>\n",
       "      <td>49527000000</td>\n",
       "      <td>2.769900e+10</td>\n",
       "      <td>351002000000</td>\n",
       "      <td>134836000000</td>\n",
       "      <td>125481000000</td>\n",
       "      <td>287912000000</td>\n",
       "      <td>63090000000</td>\n",
       "    </tr>\n",
       "    <tr>\n",
       "      <th>3</th>\n",
       "      <td>3</td>\n",
       "      <td>2022</td>\n",
       "      <td>tech</td>\n",
       "      <td>AAPL</td>\n",
       "      <td>64115000000</td>\n",
       "      <td>23646000000</td>\n",
       "      <td>4.946000e+09</td>\n",
       "      <td>84234000000</td>\n",
       "      <td>2.465800e+10</td>\n",
       "      <td>352755000000</td>\n",
       "      <td>135405000000</td>\n",
       "      <td>153982000000</td>\n",
       "      <td>302083000000</td>\n",
       "      <td>50672000000</td>\n",
       "    </tr>\n",
       "    <tr>\n",
       "      <th>4</th>\n",
       "      <td>4</td>\n",
       "      <td>2019</td>\n",
       "      <td>tech</td>\n",
       "      <td>MSFT</td>\n",
       "      <td>9382000000</td>\n",
       "      <td>11356000000</td>\n",
       "      <td>2.063000e+09</td>\n",
       "      <td>43856000000</td>\n",
       "      <td>1.224760e+11</td>\n",
       "      <td>286556000000</td>\n",
       "      <td>175552000000</td>\n",
       "      <td>69420000000</td>\n",
       "      <td>184226000000</td>\n",
       "      <td>102330000000</td>\n",
       "    </tr>\n",
       "  </tbody>\n",
       "</table>\n",
       "</div>"
      ],
      "text/plain": [
       "   Unnamed: 0  Year comp_type company  Accounts Payable         Cash  \\\n",
       "0           0  2019      tech    AAPL       46236000000  48844000000   \n",
       "1           1  2020      tech    AAPL       42296000000  38016000000   \n",
       "2           2  2021      tech    AAPL       54763000000  34940000000   \n",
       "3           3  2022      tech    AAPL       64115000000  23646000000   \n",
       "4           4  2019      tech    MSFT        9382000000  11356000000   \n",
       "\n",
       "      Inventory  Property Plant Equipment  Short Term Investments  \\\n",
       "0  4.106000e+09               37378000000            5.171300e+10   \n",
       "1  4.061000e+09               45336000000            5.292700e+10   \n",
       "2  6.580000e+09               49527000000            2.769900e+10   \n",
       "3  4.946000e+09               84234000000            2.465800e+10   \n",
       "4  2.063000e+09               43856000000            1.224760e+11   \n",
       "\n",
       "   Total Assets  Total Current Assets  Total Current Liabilities  \\\n",
       "0  338516000000          162819000000               105718000000   \n",
       "1  323888000000          143713000000               105392000000   \n",
       "2  351002000000          134836000000               125481000000   \n",
       "3  352755000000          135405000000               153982000000   \n",
       "4  286556000000          175552000000                69420000000   \n",
       "\n",
       "     Total Liab  Total Stockholder Equity  \n",
       "0  248028000000               90488000000  \n",
       "1  258549000000               65339000000  \n",
       "2  287912000000               63090000000  \n",
       "3  302083000000               50672000000  \n",
       "4  184226000000              102330000000  "
      ]
     },
     "execution_count": 28,
     "metadata": {},
     "output_type": "execute_result"
    }
   ],
   "source": [
    "balance_sheet.head()"
   ]
  },
  {
   "cell_type": "markdown",
   "id": "8c6a9f74-e35a-4118-a64f-d8d9c9ef0285",
   "metadata": {},
   "source": [
    "### Merge The Dataframes"
   ]
  },
  {
   "cell_type": "code",
   "execution_count": 29,
   "id": "064f499a-dbdf-4ac8-9e40-4817900649fb",
   "metadata": {},
   "outputs": [],
   "source": [
    "financial_statements = pd.merge(income_statement, balance_sheet, on = [\"Year\", \"company\", \"comp_type\"])"
   ]
  },
  {
   "cell_type": "markdown",
   "id": "3611f71f-23c1-4f0a-8ae3-a4e86281e762",
   "metadata": {},
   "source": [
    "#### Verify Successful Merge"
   ]
  },
  {
   "cell_type": "code",
   "execution_count": 30,
   "id": "a8d5e61e-c71d-46fe-910c-71d1351a4b73",
   "metadata": {},
   "outputs": [
    {
     "name": "stdout",
     "output_type": "stream",
     "text": [
      "<class 'pandas.core.frame.DataFrame'>\n",
      "RangeIndex: 60 entries, 0 to 59\n",
      "Data columns (total 20 columns):\n",
      " #   Column                     Non-Null Count  Dtype  \n",
      "---  ------                     --------------  -----  \n",
      " 0   Unnamed: 0_x               60 non-null     int64  \n",
      " 1   Year                       60 non-null     int64  \n",
      " 2   comp_type                  60 non-null     object \n",
      " 3   company                    60 non-null     object \n",
      " 4   Cost Of Goods Sold         60 non-null     int64  \n",
      " 5   Gross Profit               60 non-null     int64  \n",
      " 6   Operating Income           60 non-null     int64  \n",
      " 7   Total Operating Expenses   60 non-null     int64  \n",
      " 8   Total Revenue              60 non-null     int64  \n",
      " 9   Unnamed: 0_y               60 non-null     int64  \n",
      " 10  Accounts Payable           60 non-null     int64  \n",
      " 11  Cash                       60 non-null     int64  \n",
      " 12  Inventory                  44 non-null     float64\n",
      " 13  Property Plant Equipment   60 non-null     int64  \n",
      " 14  Short Term Investments     37 non-null     float64\n",
      " 15  Total Assets               60 non-null     int64  \n",
      " 16  Total Current Assets       60 non-null     int64  \n",
      " 17  Total Current Liabilities  60 non-null     int64  \n",
      " 18  Total Liab                 60 non-null     int64  \n",
      " 19  Total Stockholder Equity   60 non-null     int64  \n",
      "dtypes: float64(2), int64(16), object(2)\n",
      "memory usage: 9.5+ KB\n"
     ]
    }
   ],
   "source": [
    "financial_statements.info()"
   ]
  },
  {
   "cell_type": "code",
   "execution_count": 31,
   "id": "5fbc584e-2578-4c04-bdd0-366544d5a13a",
   "metadata": {},
   "outputs": [
    {
     "data": {
      "text/html": [
       "<div>\n",
       "<style scoped>\n",
       "    .dataframe tbody tr th:only-of-type {\n",
       "        vertical-align: middle;\n",
       "    }\n",
       "\n",
       "    .dataframe tbody tr th {\n",
       "        vertical-align: top;\n",
       "    }\n",
       "\n",
       "    .dataframe thead th {\n",
       "        text-align: right;\n",
       "    }\n",
       "</style>\n",
       "<table border=\"1\" class=\"dataframe\">\n",
       "  <thead>\n",
       "    <tr style=\"text-align: right;\">\n",
       "      <th></th>\n",
       "      <th>Unnamed: 0_x</th>\n",
       "      <th>Year</th>\n",
       "      <th>comp_type</th>\n",
       "      <th>company</th>\n",
       "      <th>Cost Of Goods Sold</th>\n",
       "      <th>Gross Profit</th>\n",
       "      <th>Operating Income</th>\n",
       "      <th>Total Operating Expenses</th>\n",
       "      <th>Total Revenue</th>\n",
       "      <th>Unnamed: 0_y</th>\n",
       "      <th>Accounts Payable</th>\n",
       "      <th>Cash</th>\n",
       "      <th>Inventory</th>\n",
       "      <th>Property Plant Equipment</th>\n",
       "      <th>Short Term Investments</th>\n",
       "      <th>Total Assets</th>\n",
       "      <th>Total Current Assets</th>\n",
       "      <th>Total Current Liabilities</th>\n",
       "      <th>Total Liab</th>\n",
       "      <th>Total Stockholder Equity</th>\n",
       "    </tr>\n",
       "  </thead>\n",
       "  <tbody>\n",
       "    <tr>\n",
       "      <th>0</th>\n",
       "      <td>0</td>\n",
       "      <td>2019</td>\n",
       "      <td>tech</td>\n",
       "      <td>AAPL</td>\n",
       "      <td>161782000000</td>\n",
       "      <td>98392000000</td>\n",
       "      <td>63930000000</td>\n",
       "      <td>196244000000</td>\n",
       "      <td>260174000000</td>\n",
       "      <td>0</td>\n",
       "      <td>46236000000</td>\n",
       "      <td>48844000000</td>\n",
       "      <td>4.106000e+09</td>\n",
       "      <td>37378000000</td>\n",
       "      <td>5.171300e+10</td>\n",
       "      <td>338516000000</td>\n",
       "      <td>162819000000</td>\n",
       "      <td>105718000000</td>\n",
       "      <td>248028000000</td>\n",
       "      <td>90488000000</td>\n",
       "    </tr>\n",
       "    <tr>\n",
       "      <th>1</th>\n",
       "      <td>1</td>\n",
       "      <td>2020</td>\n",
       "      <td>tech</td>\n",
       "      <td>AAPL</td>\n",
       "      <td>169559000000</td>\n",
       "      <td>104956000000</td>\n",
       "      <td>66288000000</td>\n",
       "      <td>208227000000</td>\n",
       "      <td>274515000000</td>\n",
       "      <td>1</td>\n",
       "      <td>42296000000</td>\n",
       "      <td>38016000000</td>\n",
       "      <td>4.061000e+09</td>\n",
       "      <td>45336000000</td>\n",
       "      <td>5.292700e+10</td>\n",
       "      <td>323888000000</td>\n",
       "      <td>143713000000</td>\n",
       "      <td>105392000000</td>\n",
       "      <td>258549000000</td>\n",
       "      <td>65339000000</td>\n",
       "    </tr>\n",
       "    <tr>\n",
       "      <th>2</th>\n",
       "      <td>2</td>\n",
       "      <td>2021</td>\n",
       "      <td>tech</td>\n",
       "      <td>AAPL</td>\n",
       "      <td>212981000000</td>\n",
       "      <td>152836000000</td>\n",
       "      <td>108949000000</td>\n",
       "      <td>256868000000</td>\n",
       "      <td>365817000000</td>\n",
       "      <td>2</td>\n",
       "      <td>54763000000</td>\n",
       "      <td>34940000000</td>\n",
       "      <td>6.580000e+09</td>\n",
       "      <td>49527000000</td>\n",
       "      <td>2.769900e+10</td>\n",
       "      <td>351002000000</td>\n",
       "      <td>134836000000</td>\n",
       "      <td>125481000000</td>\n",
       "      <td>287912000000</td>\n",
       "      <td>63090000000</td>\n",
       "    </tr>\n",
       "    <tr>\n",
       "      <th>3</th>\n",
       "      <td>3</td>\n",
       "      <td>2022</td>\n",
       "      <td>tech</td>\n",
       "      <td>AAPL</td>\n",
       "      <td>223546000000</td>\n",
       "      <td>170782000000</td>\n",
       "      <td>119437000000</td>\n",
       "      <td>274891000000</td>\n",
       "      <td>394328000000</td>\n",
       "      <td>3</td>\n",
       "      <td>64115000000</td>\n",
       "      <td>23646000000</td>\n",
       "      <td>4.946000e+09</td>\n",
       "      <td>84234000000</td>\n",
       "      <td>2.465800e+10</td>\n",
       "      <td>352755000000</td>\n",
       "      <td>135405000000</td>\n",
       "      <td>153982000000</td>\n",
       "      <td>302083000000</td>\n",
       "      <td>50672000000</td>\n",
       "    </tr>\n",
       "    <tr>\n",
       "      <th>4</th>\n",
       "      <td>4</td>\n",
       "      <td>2019</td>\n",
       "      <td>tech</td>\n",
       "      <td>MSFT</td>\n",
       "      <td>42910000000</td>\n",
       "      <td>82933000000</td>\n",
       "      <td>42959000000</td>\n",
       "      <td>82884000000</td>\n",
       "      <td>125843000000</td>\n",
       "      <td>4</td>\n",
       "      <td>9382000000</td>\n",
       "      <td>11356000000</td>\n",
       "      <td>2.063000e+09</td>\n",
       "      <td>43856000000</td>\n",
       "      <td>1.224760e+11</td>\n",
       "      <td>286556000000</td>\n",
       "      <td>175552000000</td>\n",
       "      <td>69420000000</td>\n",
       "      <td>184226000000</td>\n",
       "      <td>102330000000</td>\n",
       "    </tr>\n",
       "  </tbody>\n",
       "</table>\n",
       "</div>"
      ],
      "text/plain": [
       "   Unnamed: 0_x  Year comp_type company  Cost Of Goods Sold  Gross Profit  \\\n",
       "0             0  2019      tech    AAPL        161782000000   98392000000   \n",
       "1             1  2020      tech    AAPL        169559000000  104956000000   \n",
       "2             2  2021      tech    AAPL        212981000000  152836000000   \n",
       "3             3  2022      tech    AAPL        223546000000  170782000000   \n",
       "4             4  2019      tech    MSFT         42910000000   82933000000   \n",
       "\n",
       "   Operating Income  Total Operating Expenses  Total Revenue  Unnamed: 0_y  \\\n",
       "0       63930000000              196244000000   260174000000             0   \n",
       "1       66288000000              208227000000   274515000000             1   \n",
       "2      108949000000              256868000000   365817000000             2   \n",
       "3      119437000000              274891000000   394328000000             3   \n",
       "4       42959000000               82884000000   125843000000             4   \n",
       "\n",
       "   Accounts Payable         Cash     Inventory  Property Plant Equipment  \\\n",
       "0       46236000000  48844000000  4.106000e+09               37378000000   \n",
       "1       42296000000  38016000000  4.061000e+09               45336000000   \n",
       "2       54763000000  34940000000  6.580000e+09               49527000000   \n",
       "3       64115000000  23646000000  4.946000e+09               84234000000   \n",
       "4        9382000000  11356000000  2.063000e+09               43856000000   \n",
       "\n",
       "   Short Term Investments  Total Assets  Total Current Assets  \\\n",
       "0            5.171300e+10  338516000000          162819000000   \n",
       "1            5.292700e+10  323888000000          143713000000   \n",
       "2            2.769900e+10  351002000000          134836000000   \n",
       "3            2.465800e+10  352755000000          135405000000   \n",
       "4            1.224760e+11  286556000000          175552000000   \n",
       "\n",
       "   Total Current Liabilities    Total Liab  Total Stockholder Equity  \n",
       "0               105718000000  248028000000               90488000000  \n",
       "1               105392000000  258549000000               65339000000  \n",
       "2               125481000000  287912000000               63090000000  \n",
       "3               153982000000  302083000000               50672000000  \n",
       "4                69420000000  184226000000              102330000000  "
      ]
     },
     "execution_count": 31,
     "metadata": {},
     "output_type": "execute_result"
    }
   ],
   "source": [
    "financial_statements.head()"
   ]
  },
  {
   "cell_type": "markdown",
   "id": "55df6c14-6901-41a9-8206-16a49db1dcfa",
   "metadata": {},
   "source": [
    "### Computing Ratios"
   ]
  },
  {
   "cell_type": "markdown",
   "id": "836c72ce-b255-489b-ae9b-27968620be18",
   "metadata": {},
   "source": [
    "#### Debt to Equity Ratio"
   ]
  },
  {
   "cell_type": "code",
   "execution_count": 32,
   "id": "a52334cd-6856-496b-874e-b889db14f265",
   "metadata": {},
   "outputs": [],
   "source": [
    "financial_statements['Debt To Equity'] = financial_statements['Total Liab'] / financial_statements['Total Stockholder Equity']"
   ]
  },
  {
   "cell_type": "markdown",
   "id": "da4f0e07-36b2-491b-b121-927a3a6c9e6d",
   "metadata": {},
   "source": [
    "#### Equity Multiplier Ratio"
   ]
  },
  {
   "cell_type": "code",
   "execution_count": 33,
   "id": "41a19f3c-ccd5-403d-8e79-10cdb278904e",
   "metadata": {},
   "outputs": [],
   "source": [
    "financial_statements[\"Equity Multiplier\"] = financial_statements['Total Assets'] / financial_statements['Total Stockholder Equity']"
   ]
  },
  {
   "cell_type": "markdown",
   "id": "24dc12c8-229d-49c6-b91e-1b31eb9251a6",
   "metadata": {},
   "source": [
    "#### Gross Margin Ratio"
   ]
  },
  {
   "cell_type": "code",
   "execution_count": 34,
   "id": "68714836-cbb2-4215-9b91-6b1be88d9a11",
   "metadata": {},
   "outputs": [],
   "source": [
    "financial_statements['Gross Margin'] = (financial_statements['Total Revenue'] - financial_statements['Cost Of Goods Sold']) / financial_statements['Total Revenue']"
   ]
  },
  {
   "cell_type": "markdown",
   "id": "71edca44-fdc4-4bb3-be40-09f186c0da1c",
   "metadata": {},
   "source": [
    "#### Operating Margin Ratio"
   ]
  },
  {
   "cell_type": "code",
   "execution_count": 35,
   "id": "f56a5537-997b-4db0-ab97-6f93bde229dd",
   "metadata": {},
   "outputs": [],
   "source": [
    "financial_statements['Operating Margin'] = (financial_statements['Total Revenue'] - financial_statements['Total Operating Expenses']) / financial_statements['Total Revenue']"
   ]
  },
  {
   "cell_type": "markdown",
   "id": "29e1fa08-ae8f-4ae8-b849-db592c8527c3",
   "metadata": {},
   "source": [
    "#### Verify"
   ]
  },
  {
   "cell_type": "code",
   "execution_count": 36,
   "id": "77b03c6f-975f-407f-bb19-f8de53480b2b",
   "metadata": {},
   "outputs": [
    {
     "data": {
      "text/html": [
       "<div>\n",
       "<style scoped>\n",
       "    .dataframe tbody tr th:only-of-type {\n",
       "        vertical-align: middle;\n",
       "    }\n",
       "\n",
       "    .dataframe tbody tr th {\n",
       "        vertical-align: top;\n",
       "    }\n",
       "\n",
       "    .dataframe thead th {\n",
       "        text-align: right;\n",
       "    }\n",
       "</style>\n",
       "<table border=\"1\" class=\"dataframe\">\n",
       "  <thead>\n",
       "    <tr style=\"text-align: right;\">\n",
       "      <th></th>\n",
       "      <th>Unnamed: 0_x</th>\n",
       "      <th>Year</th>\n",
       "      <th>comp_type</th>\n",
       "      <th>company</th>\n",
       "      <th>Cost Of Goods Sold</th>\n",
       "      <th>Gross Profit</th>\n",
       "      <th>Operating Income</th>\n",
       "      <th>Total Operating Expenses</th>\n",
       "      <th>Total Revenue</th>\n",
       "      <th>Unnamed: 0_y</th>\n",
       "      <th>...</th>\n",
       "      <th>Short Term Investments</th>\n",
       "      <th>Total Assets</th>\n",
       "      <th>Total Current Assets</th>\n",
       "      <th>Total Current Liabilities</th>\n",
       "      <th>Total Liab</th>\n",
       "      <th>Total Stockholder Equity</th>\n",
       "      <th>Debt To Equity</th>\n",
       "      <th>Equity Multiplier</th>\n",
       "      <th>Gross Margin</th>\n",
       "      <th>Operating Margin</th>\n",
       "    </tr>\n",
       "  </thead>\n",
       "  <tbody>\n",
       "    <tr>\n",
       "      <th>0</th>\n",
       "      <td>0</td>\n",
       "      <td>2019</td>\n",
       "      <td>tech</td>\n",
       "      <td>AAPL</td>\n",
       "      <td>161782000000</td>\n",
       "      <td>98392000000</td>\n",
       "      <td>63930000000</td>\n",
       "      <td>196244000000</td>\n",
       "      <td>260174000000</td>\n",
       "      <td>0</td>\n",
       "      <td>...</td>\n",
       "      <td>5.171300e+10</td>\n",
       "      <td>338516000000</td>\n",
       "      <td>162819000000</td>\n",
       "      <td>105718000000</td>\n",
       "      <td>248028000000</td>\n",
       "      <td>90488000000</td>\n",
       "      <td>2.741004</td>\n",
       "      <td>3.741004</td>\n",
       "      <td>0.378178</td>\n",
       "      <td>0.245720</td>\n",
       "    </tr>\n",
       "    <tr>\n",
       "      <th>1</th>\n",
       "      <td>1</td>\n",
       "      <td>2020</td>\n",
       "      <td>tech</td>\n",
       "      <td>AAPL</td>\n",
       "      <td>169559000000</td>\n",
       "      <td>104956000000</td>\n",
       "      <td>66288000000</td>\n",
       "      <td>208227000000</td>\n",
       "      <td>274515000000</td>\n",
       "      <td>1</td>\n",
       "      <td>...</td>\n",
       "      <td>5.292700e+10</td>\n",
       "      <td>323888000000</td>\n",
       "      <td>143713000000</td>\n",
       "      <td>105392000000</td>\n",
       "      <td>258549000000</td>\n",
       "      <td>65339000000</td>\n",
       "      <td>3.957039</td>\n",
       "      <td>4.957039</td>\n",
       "      <td>0.382332</td>\n",
       "      <td>0.241473</td>\n",
       "    </tr>\n",
       "    <tr>\n",
       "      <th>2</th>\n",
       "      <td>2</td>\n",
       "      <td>2021</td>\n",
       "      <td>tech</td>\n",
       "      <td>AAPL</td>\n",
       "      <td>212981000000</td>\n",
       "      <td>152836000000</td>\n",
       "      <td>108949000000</td>\n",
       "      <td>256868000000</td>\n",
       "      <td>365817000000</td>\n",
       "      <td>2</td>\n",
       "      <td>...</td>\n",
       "      <td>2.769900e+10</td>\n",
       "      <td>351002000000</td>\n",
       "      <td>134836000000</td>\n",
       "      <td>125481000000</td>\n",
       "      <td>287912000000</td>\n",
       "      <td>63090000000</td>\n",
       "      <td>4.563512</td>\n",
       "      <td>5.563512</td>\n",
       "      <td>0.417794</td>\n",
       "      <td>0.297824</td>\n",
       "    </tr>\n",
       "    <tr>\n",
       "      <th>3</th>\n",
       "      <td>3</td>\n",
       "      <td>2022</td>\n",
       "      <td>tech</td>\n",
       "      <td>AAPL</td>\n",
       "      <td>223546000000</td>\n",
       "      <td>170782000000</td>\n",
       "      <td>119437000000</td>\n",
       "      <td>274891000000</td>\n",
       "      <td>394328000000</td>\n",
       "      <td>3</td>\n",
       "      <td>...</td>\n",
       "      <td>2.465800e+10</td>\n",
       "      <td>352755000000</td>\n",
       "      <td>135405000000</td>\n",
       "      <td>153982000000</td>\n",
       "      <td>302083000000</td>\n",
       "      <td>50672000000</td>\n",
       "      <td>5.961537</td>\n",
       "      <td>6.961537</td>\n",
       "      <td>0.433096</td>\n",
       "      <td>0.302887</td>\n",
       "    </tr>\n",
       "    <tr>\n",
       "      <th>4</th>\n",
       "      <td>4</td>\n",
       "      <td>2019</td>\n",
       "      <td>tech</td>\n",
       "      <td>MSFT</td>\n",
       "      <td>42910000000</td>\n",
       "      <td>82933000000</td>\n",
       "      <td>42959000000</td>\n",
       "      <td>82884000000</td>\n",
       "      <td>125843000000</td>\n",
       "      <td>4</td>\n",
       "      <td>...</td>\n",
       "      <td>1.224760e+11</td>\n",
       "      <td>286556000000</td>\n",
       "      <td>175552000000</td>\n",
       "      <td>69420000000</td>\n",
       "      <td>184226000000</td>\n",
       "      <td>102330000000</td>\n",
       "      <td>1.800313</td>\n",
       "      <td>2.800313</td>\n",
       "      <td>0.659020</td>\n",
       "      <td>0.341370</td>\n",
       "    </tr>\n",
       "  </tbody>\n",
       "</table>\n",
       "<p>5 rows × 24 columns</p>\n",
       "</div>"
      ],
      "text/plain": [
       "   Unnamed: 0_x  Year comp_type company  Cost Of Goods Sold  Gross Profit  \\\n",
       "0             0  2019      tech    AAPL        161782000000   98392000000   \n",
       "1             1  2020      tech    AAPL        169559000000  104956000000   \n",
       "2             2  2021      tech    AAPL        212981000000  152836000000   \n",
       "3             3  2022      tech    AAPL        223546000000  170782000000   \n",
       "4             4  2019      tech    MSFT         42910000000   82933000000   \n",
       "\n",
       "   Operating Income  Total Operating Expenses  Total Revenue  Unnamed: 0_y  \\\n",
       "0       63930000000              196244000000   260174000000             0   \n",
       "1       66288000000              208227000000   274515000000             1   \n",
       "2      108949000000              256868000000   365817000000             2   \n",
       "3      119437000000              274891000000   394328000000             3   \n",
       "4       42959000000               82884000000   125843000000             4   \n",
       "\n",
       "   ...  Short Term Investments  Total Assets  Total Current Assets  \\\n",
       "0  ...            5.171300e+10  338516000000          162819000000   \n",
       "1  ...            5.292700e+10  323888000000          143713000000   \n",
       "2  ...            2.769900e+10  351002000000          134836000000   \n",
       "3  ...            2.465800e+10  352755000000          135405000000   \n",
       "4  ...            1.224760e+11  286556000000          175552000000   \n",
       "\n",
       "   Total Current Liabilities    Total Liab  Total Stockholder Equity  \\\n",
       "0               105718000000  248028000000               90488000000   \n",
       "1               105392000000  258549000000               65339000000   \n",
       "2               125481000000  287912000000               63090000000   \n",
       "3               153982000000  302083000000               50672000000   \n",
       "4                69420000000  184226000000              102330000000   \n",
       "\n",
       "   Debt To Equity  Equity Multiplier  Gross Margin  Operating Margin  \n",
       "0        2.741004           3.741004      0.378178          0.245720  \n",
       "1        3.957039           4.957039      0.382332          0.241473  \n",
       "2        4.563512           5.563512      0.417794          0.297824  \n",
       "3        5.961537           6.961537      0.433096          0.302887  \n",
       "4        1.800313           2.800313      0.659020          0.341370  \n",
       "\n",
       "[5 rows x 24 columns]"
      ]
     },
     "execution_count": 36,
     "metadata": {},
     "output_type": "execute_result"
    }
   ],
   "source": [
    "financial_statements.head()"
   ]
  },
  {
   "cell_type": "markdown",
   "id": "12a9badd-1f13-4ba9-8d3e-ea1e0f33a8f1",
   "metadata": {},
   "source": [
    "### Grouping Ratios Over Company Type"
   ]
  },
  {
   "cell_type": "markdown",
   "id": "60cd8e22-82cd-4a49-94a6-f031e2db6929",
   "metadata": {},
   "source": [
    "#### Gross Margin (Profitability Ratio)"
   ]
  },
  {
   "cell_type": "code",
   "execution_count": 37,
   "id": "8fed7473-06d4-46d2-8d77-772c1c34789d",
   "metadata": {},
   "outputs": [],
   "source": [
    "grouped_gm = pd.pivot_table(financial_statements, index = \"comp_type\", values = \"Gross Margin\")"
   ]
  },
  {
   "cell_type": "code",
   "execution_count": 38,
   "id": "01c92f72-43c5-4ff6-a18d-4a4681da7c21",
   "metadata": {},
   "outputs": [
    {
     "data": {
      "text/html": [
       "<div>\n",
       "<style scoped>\n",
       "    .dataframe tbody tr th:only-of-type {\n",
       "        vertical-align: middle;\n",
       "    }\n",
       "\n",
       "    .dataframe tbody tr th {\n",
       "        vertical-align: top;\n",
       "    }\n",
       "\n",
       "    .dataframe thead th {\n",
       "        text-align: right;\n",
       "    }\n",
       "</style>\n",
       "<table border=\"1\" class=\"dataframe\">\n",
       "  <thead>\n",
       "    <tr style=\"text-align: right;\">\n",
       "      <th></th>\n",
       "      <th>Gross Margin</th>\n",
       "    </tr>\n",
       "    <tr>\n",
       "      <th>comp_type</th>\n",
       "      <th></th>\n",
       "    </tr>\n",
       "  </thead>\n",
       "  <tbody>\n",
       "    <tr>\n",
       "      <th>fmcg</th>\n",
       "      <td>0.514396</td>\n",
       "    </tr>\n",
       "    <tr>\n",
       "      <th>real_est</th>\n",
       "      <td>0.534848</td>\n",
       "    </tr>\n",
       "    <tr>\n",
       "      <th>tech</th>\n",
       "      <td>0.572062</td>\n",
       "    </tr>\n",
       "  </tbody>\n",
       "</table>\n",
       "</div>"
      ],
      "text/plain": [
       "           Gross Margin\n",
       "comp_type              \n",
       "fmcg           0.514396\n",
       "real_est       0.534848\n",
       "tech           0.572062"
      ]
     },
     "execution_count": 38,
     "metadata": {},
     "output_type": "execute_result"
    }
   ],
   "source": [
    "grouped_gm"
   ]
  },
  {
   "cell_type": "code",
   "execution_count": 39,
   "id": "2fd683cf-9579-48b4-a13f-3b2bd996f656",
   "metadata": {},
   "outputs": [],
   "source": [
    "lowest_profitability = \"fmcg\""
   ]
  },
  {
   "cell_type": "markdown",
   "id": "a1d5e0dc-de2a-4689-9966-7cb814780a0b",
   "metadata": {},
   "source": [
    "#### Debt to Equity (Leverage Ratio)"
   ]
  },
  {
   "cell_type": "code",
   "execution_count": 40,
   "id": "3d26e5d1-de6b-482d-a385-8c02c9c0fba1",
   "metadata": {},
   "outputs": [],
   "source": [
    "grouped_de = pd.pivot_table(financial_statements, index = \"comp_type\", values = \"Debt To Equity\")"
   ]
  },
  {
   "cell_type": "code",
   "execution_count": 41,
   "id": "406741a6-b58c-46f8-bd9b-d7d2d75c15fd",
   "metadata": {},
   "outputs": [
    {
     "data": {
      "text/html": [
       "<div>\n",
       "<style scoped>\n",
       "    .dataframe tbody tr th:only-of-type {\n",
       "        vertical-align: middle;\n",
       "    }\n",
       "\n",
       "    .dataframe tbody tr th {\n",
       "        vertical-align: top;\n",
       "    }\n",
       "\n",
       "    .dataframe thead th {\n",
       "        text-align: right;\n",
       "    }\n",
       "</style>\n",
       "<table border=\"1\" class=\"dataframe\">\n",
       "  <thead>\n",
       "    <tr style=\"text-align: right;\">\n",
       "      <th></th>\n",
       "      <th>Debt To Equity</th>\n",
       "    </tr>\n",
       "    <tr>\n",
       "      <th>comp_type</th>\n",
       "      <th></th>\n",
       "    </tr>\n",
       "  </thead>\n",
       "  <tbody>\n",
       "    <tr>\n",
       "      <th>fmcg</th>\n",
       "      <td>2.997896</td>\n",
       "    </tr>\n",
       "    <tr>\n",
       "      <th>real_est</th>\n",
       "      <td>5.692041</td>\n",
       "    </tr>\n",
       "    <tr>\n",
       "      <th>tech</th>\n",
       "      <td>1.777448</td>\n",
       "    </tr>\n",
       "  </tbody>\n",
       "</table>\n",
       "</div>"
      ],
      "text/plain": [
       "           Debt To Equity\n",
       "comp_type                \n",
       "fmcg             2.997896\n",
       "real_est         5.692041\n",
       "tech             1.777448"
      ]
     },
     "execution_count": 41,
     "metadata": {},
     "output_type": "execute_result"
    }
   ],
   "source": [
    "grouped_de"
   ]
  },
  {
   "cell_type": "code",
   "execution_count": 42,
   "id": "fba536a0-133d-42d7-bdd8-cc8fd7bbc029",
   "metadata": {},
   "outputs": [],
   "source": [
    "highest_leverage = \"real_est\""
   ]
  },
  {
   "cell_type": "markdown",
   "id": "df82eeb9-8354-45ab-868c-3d0fc2f30846",
   "metadata": {},
   "source": [
    "### Plotting Relationship between leverage and profitability in real estate companies"
   ]
  },
  {
   "cell_type": "code",
   "execution_count": 43,
   "id": "4db4ac66-cbf3-401c-a91b-2bc4591d488d",
   "metadata": {},
   "outputs": [],
   "source": [
    "real_est = financial_statements.loc[financial_statements[\"comp_type\"] == \"real_est\"]"
   ]
  },
  {
   "cell_type": "code",
   "execution_count": 44,
   "id": "271246a5-6b89-4c26-8c6e-dae3f5cea241",
   "metadata": {},
   "outputs": [
    {
     "data": {
      "image/png": "[encoded data removed]",
      "text/plain": [
       "<Figure size 640x480 with 1 Axes>"
      ]
     },
     "metadata": {},
     "output_type": "display_data"
    }
   ],
   "source": [
    "plot = sns.regplot(data=real_est, x=\"Debt To Equity\", y=\"Gross Margin\")"
   ]
  },
  {
   "cell_type": "code",
   "execution_count": 45,
   "id": "bdcb6920-af57-4274-bbdf-c06a1a0ea8a8",
   "metadata": {},
   "outputs": [],
   "source": [
    "relationship = \"Positive\""
   ]
  },
  {
   "cell_type": "markdown",
   "id": "b5bf3d22-5545-4760-8a84-1c9b0ebf52c2",
   "metadata": {},
   "source": [
    "### Basic Regression Model"
   ]
  },
  {
   "cell_type": "code",
   "execution_count": 64,
   "id": "1ca1e9a5-cf7c-466b-9040-be49c7914f27",
   "metadata": {},
   "outputs": [],
   "source": [
    "x = real_est[[\"Debt To Equity\"]]\n",
    "y = real_est['Gross Margin']"
   ]
  },
  {
   "cell_type": "code",
   "execution_count": 68,
   "id": "4704c581-f57c-47c5-b87a-950ee42ab96a",
   "metadata": {},
   "outputs": [
    {
     "name": "stdout",
     "output_type": "stream",
     "text": [
      "Intercept: 0.34156648804550116\n",
      "Slope: 0.03395651934013959\n",
      "R² Score: 0.24527563708834443\n"
     ]
    }
   ],
   "source": [
    "model = LinearRegression()\n",
    "model.fit(x, y)\n",
    "\n",
    "print(\"Intercept:\", model.intercept_)\n",
    "print(\"Slope:\", model.coef_[0])\n",
    "print(\"R² Score:\", model.score(x, y))"
   ]
  },
  {
   "cell_type": "markdown",
   "id": "ada6e2e3-8160-4e9f-a4b9-95e02d6fe8aa",
   "metadata": {},
   "source": [
    "### Boxplot Comparing Gross Margin Across Industries"
   ]
  },
  {
   "cell_type": "code",
   "execution_count": 58,
   "id": "4d9a4dbd-20f1-4b10-bd33-8e3b464fc4f1",
   "metadata": {},
   "outputs": [
    {
     "data": {
      "image/png": "[encoded data removed]",
      "text/plain": [
       "<Figure size 640x480 with 1 Axes>"
      ]
     },
     "metadata": {},
     "output_type": "display_data"
    }
   ],
   "source": [
    "sns.boxplot(financial_statements, x=\"comp_type\", y=\"Gross Margin\")\n",
    "plt.title(\"Gross Margin by Industry\")\n",
    "plt.show()"
   ]
  },
  {
   "cell_type": "markdown",
   "id": "2ccc812e-6753-4071-ae49-cd65db481938",
   "metadata": {},
   "source": [
    "### Lineplot of Debt to Equity over Years by industry"
   ]
  },
  {
   "cell_type": "code",
   "execution_count": 55,
   "id": "25a46344-bcbc-4f00-8e5a-43940643c25c",
   "metadata": {},
   "outputs": [
    {
     "data": {
      "image/png": "[encoded data removed]",
      "text/plain": [
       "<Figure size 640x480 with 1 Axes>"
      ]
     },
     "metadata": {},
     "output_type": "display_data"
    }
   ],
   "source": [
    "sns.lineplot(financial_statements, x='Year', y=\"Debt To Equity\", hue=\"comp_type\", marker='o', errorbar=None)\n",
    "plt.title(\"Debt to Equity Over Time by Industry\")\n",
    "plt.grid(True)\n",
    "plt.tight_layout()\n",
    "plt.show()"
   ]
  },
  {
   "cell_type": "markdown",
   "id": "6998dab2-1359-47b4-9726-2d49feef18ef",
   "metadata": {},
   "source": [
    "## 🧠 Key Insights\n",
    "\n",
    "- **Real estate companies** show the highest **Debt to Equity** ratios across industries, averaging over 5.6 — indicating heavy reliance on leverage.\n",
    "- **FMCG companies** have the **lowest Gross Margins**, which means they make less profit from each dollar of sales. This could be due to higher costs or tighter pricing.\n",
    "- The **Gross Margin** boxplot shows that **Real Estate** firms have the **highest median profitability**, but also the **widest variability** in performance. **Tech** companies follow with a slightly lower median, but demonstrate **more consistent margins**. **FMCG** firms show the lowest and most stable gross margins overall.\n",
    "- A **linear regression model** and **scatter plot** on real estate firms reveals a **positive correlation** between leverage and profitability:\n",
    "  - Slope: `0.0339`\n",
    "  - R² Score: `0.25`\n",
    "  - This suggests leverage contributes to profitability, but it isn’t the only factor — operational strategy likely plays a large role.\n",
    "- **Visual trends** over time show tech companies are increasing their leverage, while FMCG firms are reducing it — possibly signaling different risk strategies across sectors.\n",
    "\n",
    "---\n",
    "\n",
    "## 📌 Interpretation for Investors\n",
    "\n",
    "Real estate firms may use leverage effectively to enhance profits, but the relationship is modest. This implies **leverage alone isn't a reliable profitability signal**, and further analysis of cost structure, cash flow, and asset returns is needed before making investment decisions.\n",
    "\n",
    "\n",
    "\n"
   ]
  },
  {
   "cell_type": "code",
   "execution_count": null,
   "id": "099fc26f-c777-4f43-a8f1-65ea1587b307",
   "metadata": {},
   "outputs": [],
   "source": []
  }
 ],
 "metadata": {
  "kernelspec": {
   "display_name": "Python 3 (ipykernel)",
   "language": "python",
   "name": "python3"
  },
  "language_info": {
   "codemirror_mode": {
    "name": "ipython",
    "version": 3
   },
   "file_extension": ".py",
   "mimetype": "text/x-python",
   "name": "python",
   "nbconvert_exporter": "python",
   "pygments_lexer": "ipython3",
   "version": "3.11.0"
  }
 },
 "nbformat": 4,
 "nbformat_minor": 5
}
